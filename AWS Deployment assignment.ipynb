{
 "cells": [
  {
   "cell_type": "code",
   "execution_count": 3,
   "id": "2874be8a-f4b1-485c-9632-e8ac912c558b",
   "metadata": {},
   "outputs": [],
   "source": [
    "#1 Web scraping is the process to extract content and data from a website.It extracts underlying HTML code\n",
    "# price monitoring, enriching machine learning models, news tracking"
   ]
  },
  {
   "cell_type": "code",
   "execution_count": 4,
   "id": "ea070aa6-e772-46f3-806d-3ca458f08262",
   "metadata": {},
   "outputs": [],
   "source": [
    "#2 BeautifulSoup , Urllib3, Read(),Request"
   ]
  },
  {
   "cell_type": "code",
   "execution_count": 5,
   "id": "b58354c9-daa2-4103-bd37-9ab15546dd13",
   "metadata": {},
   "outputs": [],
   "source": [
    "#3 Beautiful Soup is a python package and as the name suggests, parses the unwanted data and helps to organize \n",
    "#  format the messy web data by fixing bad HTML and present to us in an easily-traversible structures"
   ]
  },
  {
   "cell_type": "code",
   "execution_count": 6,
   "id": "a4007b42-9ab0-4bb1-aa6a-e336906c34ba",
   "metadata": {},
   "outputs": [],
   "source": [
    "#4 Flask is a lightweight framework to build websites. We'll use this to parse our collected data and display it as HTML\n",
    "# The requests module allows us to send http requests to the website we want to scrape. \n",
    "# The first line imports the Flask class and the render_template method from the flask library."
   ]
  },
  {
   "cell_type": "code",
   "execution_count": null,
   "id": "8900c6ad-1574-49b4-93d5-dc75b9518b8c",
   "metadata": {},
   "outputs": [],
   "source": [
    "#5  AWS Elastic Bluestalk: Upload your code and it automatically handles the deployment—from capacity provisioning to Running code 24*7 when needed on server like a computer\n",
    "# Pipeline"
   ]
  }
 ],
 "metadata": {
  "kernelspec": {
   "display_name": "Python 3 (ipykernel)",
   "language": "python",
   "name": "python3"
  },
  "language_info": {
   "codemirror_mode": {
    "name": "ipython",
    "version": 3
   },
   "file_extension": ".py",
   "mimetype": "text/x-python",
   "name": "python",
   "nbconvert_exporter": "python",
   "pygments_lexer": "ipython3",
   "version": "3.10.6"
  }
 },
 "nbformat": 4,
 "nbformat_minor": 5
}
