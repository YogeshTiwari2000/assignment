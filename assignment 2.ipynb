{
 "cells": [
  {
   "cell_type": "code",
   "execution_count": 21,
   "id": "1547b453-4488-499e-82d3-1cc022260d99",
   "metadata": {},
   "outputs": [
    {
     "data": {
      "text/plain": [
       "[1, 3, 5, 7, 9, 11, 13, 15, 17, 19, 21, 23, 25]"
      ]
     },
     "execution_count": 21,
     "metadata": {},
     "output_type": "execute_result"
    }
   ],
   "source": [
    "# def keyword with name of function is used to assign a function\n",
    "def odd():\n",
    "    x=list(i for i in range(1,26) if i%2!=0)\n",
    "    return x\n",
    "odd()"
   ]
  },
  {
   "cell_type": "code",
   "execution_count": 47,
   "id": "5d53faaf-cce9-4bac-9622-f8977dd70e71",
   "metadata": {},
   "outputs": [
    {
     "name": "stdout",
     "output_type": "stream",
     "text": [
      "Example of *args using add function\n"
     ]
    },
    {
     "data": {
      "text/plain": [
       "42"
      ]
     },
     "execution_count": 47,
     "metadata": {},
     "output_type": "execute_result"
    }
   ],
   "source": [
    "# For example, we want to make a function that takes any number of arguments. It can be done using *args.\n",
    "# One can think of the **kwargs as being a dictionary that maps each keyword to the value that we pass alongside it.\n",
    "# example of *args\n",
    "def add(*args):\n",
    "    result=0\n",
    "    for i in args:\n",
    "        result=result+i\n",
    "    print(\"Example of *args using add function\")\n",
    "    return(result)\n",
    "add(9,12,21)"
   ]
  },
  {
   "cell_type": "code",
   "execution_count": 49,
   "id": "5a7fdf07-7196-4413-9c98-5e20907e234a",
   "metadata": {},
   "outputs": [
    {
     "name": "stdout",
     "output_type": "stream",
     "text": [
      "9 12\n",
      "Example of **args :  {'c': 18, 'd': 21}\n"
     ]
    }
   ],
   "source": [
    "# example of **args\n",
    "def add1(a,b,**args):\n",
    "    print(a,b)\n",
    "    print(\"Example of **args : \",args)\n",
    "add1(9,12,c=18,d=21)\n",
    "    "
   ]
  },
  {
   "cell_type": "code",
   "execution_count": 16,
   "id": "d4d7b888-f6eb-448e-88ba-ec7b5878bc74",
   "metadata": {},
   "outputs": [],
   "source": [
    "    li=[2, 4, 6, 8, 10, 12, 14,16, 18, 20]\n"
   ]
  },
  {
   "cell_type": "code",
   "execution_count": 15,
   "id": "885d3e99-ca74-4d23-a7b5-3db40fe0ba6d",
   "metadata": {},
   "outputs": [
    {
     "name": "stdout",
     "output_type": "stream",
     "text": [
      "2\n",
      "4\n",
      "6\n",
      "8\n",
      "10\n"
     ]
    }
   ],
   "source": [
    "for items in li[0:5]:\n",
    "    print(items)"
   ]
  },
  {
   "cell_type": "code",
   "execution_count": 5,
   "id": "ceed2b1c-efa0-4eaf-a59f-27e0cbf06622",
   "metadata": {},
   "outputs": [
    {
     "name": "stdout",
     "output_type": "stream",
     "text": [
      "[2, 3, 5, 7, 11, 13, 17, 19, 23, 29, 31, 37, 41, 43, 47, 53, 59, 61, 67, 71, 73, 79, 83, 89, 97, 101, 103, 107, 109, 113, 127, 131, 137, 139, 149, 151, 157, 163, 167, 173, 179, 181, 191, 193, 197, 199]\n"
     ]
    }
   ],
   "source": [
    "print([i for i in range(2, 200) if 0 not in [i%n for n in range(2, i)]])"
   ]
  },
  {
   "cell_type": "code",
   "execution_count": 4,
   "id": "6895894d-aeb3-4c52-a82a-6e88fcd09c5e",
   "metadata": {},
   "outputs": [
    {
     "name": "stdout",
     "output_type": "stream",
     "text": [
      "[1, 2, 3, 5, 8, 13, 21, 34, 55, 89]\n"
     ]
    }
   ],
   "source": [
    "# Fibonacci series\n",
    "a,b=0,1\n",
    "li=[]\n",
    "n=10\n",
    "i=0\n",
    "while i<n:\n",
    "    c=a+b\n",
    "    a=b\n",
    "    b=c\n",
    "    i=i+1\n",
    "    li.append(c)\n",
    "print(li)"
   ]
  },
  {
   "cell_type": "code",
   "execution_count": 8,
   "id": "94eef0f3-33b9-460c-ac0c-d164fec02d76",
   "metadata": {},
   "outputs": [
    {
     "name": "stdout",
     "output_type": "stream",
     "text": [
      "['p', 'w', 's', 'k', 'i', 'l', 'l', 's']\n"
     ]
    }
   ],
   "source": [
    "# skills=\"pwskills\"\n",
    "# skill_li=[]\n",
    "# for i in skills:\n",
    "#     skill_li.append(i)\n",
    "# print(skill_li)\n",
    "\n",
    "# list comprehension for a string \n",
    "skills=\"pwskills\"\n",
    "skill_li=[i for i in skills ]\n",
    "print(skill_li)"
   ]
  },
  {
   "cell_type": "code",
   "execution_count": 1,
   "id": "928a1417-08cb-471c-97af-c2cb7ef9563d",
   "metadata": {},
   "outputs": [
    {
     "name": "stdin",
     "output_type": "stream",
     "text": [
      "Enter Your Name :  repaper\n"
     ]
    },
    {
     "name": "stdout",
     "output_type": "stream",
     "text": [
      "yes\n"
     ]
    }
   ],
   "source": [
    "# palindrome\n",
    "def pali():\n",
    "    name=input(\"Enter Your Name : \")\n",
    "    if name==name[::-1]:\n",
    "        print(\"yes\")\n",
    "    else:\n",
    "        print(\"No\")\n",
    "pali()\n",
    "\n",
    "# name=\"yogesh\"\n",
    "# print(name[::-1])\n",
    "    "
   ]
  },
  {
   "cell_type": "code",
   "execution_count": 3,
   "id": "30a46cb1-c72a-45f7-a45d-da00800b2e3f",
   "metadata": {},
   "outputs": [
    {
     "name": "stdout",
     "output_type": "stream",
     "text": [
      "[1, 3, 5, 7, 9, 11, 13, 15, 17, 19, 21, 23, 25, 27, 29, 31, 33, 35, 37, 39, 41, 43, 45, 47, 49, 51, 53, 55, 57, 59, 61, 63, 65, 67, 69, 71, 73, 75, 77, 79, 81, 83, 85, 87, 89, 91, 93, 95, 97, 99]\n"
     ]
    }
   ],
   "source": [
    "odd=[ i for i in range(0,100) if i%2!=0]\n",
    "print(odd)"
   ]
  },
  {
   "cell_type": "code",
   "execution_count": null,
   "id": "f2e601ab-4bf4-4fe2-81bb-1e413b8c6282",
   "metadata": {},
   "outputs": [],
   "source": []
  }
 ],
 "metadata": {
  "kernelspec": {
   "display_name": "Python 3 (ipykernel)",
   "language": "python",
   "name": "python3"
  },
  "language_info": {
   "codemirror_mode": {
    "name": "ipython",
    "version": 3
   },
   "file_extension": ".py",
   "mimetype": "text/x-python",
   "name": "python",
   "nbconvert_exporter": "python",
   "pygments_lexer": "ipython3",
   "version": "3.10.6"
  }
 },
 "nbformat": 4,
 "nbformat_minor": 5
}
