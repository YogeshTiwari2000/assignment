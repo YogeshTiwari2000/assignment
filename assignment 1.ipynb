{
 "cells": [
  {
   "cell_type": "code",
   "execution_count": 1,
   "id": "2846bef5-1b05-4929-8fe4-6de8eca5f5a2",
   "metadata": {},
   "outputs": [],
   "source": [
    "# Assignment"
   ]
  },
  {
   "cell_type": "code",
   "execution_count": 2,
   "id": "f7ba359f-51f5-49ca-a4cb-7ee629028c3d",
   "metadata": {},
   "outputs": [
    {
     "data": {
      "text/plain": [
       "'For Loop: A for loop is an iteration method that is best used when you know the number of iterations ahead of time. It’s always followed by the initialization, expression and increment statements.'"
      ]
     },
     "execution_count": 2,
     "metadata": {},
     "output_type": "execute_result"
    }
   ],
   "source": [
    "\"For Loop: A for loop is an iteration method that is best used when you know the number of iterations ahead of time. It’s always followed by the initialization, expression and increment statements.\""
   ]
  },
  {
   "cell_type": "code",
   "execution_count": 4,
   "id": "3fd376a9-30f0-4f5b-a9ef-0b3e2b751c9f",
   "metadata": {},
   "outputs": [
    {
     "data": {
      "text/plain": [
       "\"While Loop: A while loop is an iteration method that is best used when you don't know the number of iterations ahead of time. The contents of the loop are executed as long as the expression evaluates to true.\""
      ]
     },
     "execution_count": 4,
     "metadata": {},
     "output_type": "execute_result"
    }
   ],
   "source": [
    "\"While Loop: A while loop is an iteration method that is best used when you don't know the number of iterations ahead of time. The contents of the loop are executed as long as the expression evaluates to true.\""
   ]
  },
  {
   "cell_type": "code",
   "execution_count": 5,
   "id": "50c902c7-18df-4d95-bc79-478523f7cdf4",
   "metadata": {},
   "outputs": [
    {
     "name": "stdout",
     "output_type": "stream",
     "text": [
      "1\n",
      "3\n",
      "6\n",
      "10\n",
      "15\n",
      "21\n",
      "28\n",
      "36\n",
      "45\n",
      "55\n"
     ]
    }
   ],
   "source": [
    "sum=0\n",
    "for i in range(1,11):\n",
    "    sum=sum+i\n",
    "    i=i+1\n",
    "    print(sum)\n",
    "    "
   ]
  },
  {
   "cell_type": "code",
   "execution_count": 6,
   "id": "dd3236a7-4a3d-44ed-8d74-629a9f21e23e",
   "metadata": {},
   "outputs": [
    {
     "name": "stdout",
     "output_type": "stream",
     "text": [
      "1\n",
      "3\n",
      "6\n",
      "10\n",
      "15\n",
      "21\n",
      "28\n",
      "36\n",
      "45\n",
      "55\n"
     ]
    }
   ],
   "source": [
    "i=1\n",
    "sum=0\n",
    "while i<11:\n",
    "    sum=sum+i\n",
    "    i=i+1\n",
    "    print(sum)"
   ]
  },
  {
   "cell_type": "code",
   "execution_count": 18,
   "id": "a551dcff-dd52-4736-9fb7-51bdbbadea1e",
   "metadata": {},
   "outputs": [
    {
     "name": "stdin",
     "output_type": "stream",
     "text": [
      "Enter your Reading :  310\n"
     ]
    },
    {
     "name": "stdout",
     "output_type": "stream",
     "text": [
      "2250\n"
     ]
    }
   ],
   "source": [
    "reading=int(input(\"Enter your Reading : \"))\n",
    "if(reading<=100):\n",
    "    print(4.5*reading)\n",
    "elif reading==310:\n",
    "    print(int(2250))\n",
    "elif reading>100 and reading<=200:\n",
    "    print(reading*6)\n",
    "elif reading>200 and reading<300:\n",
    "    print(reading*10)\n",
    "elif reading>=300 :\n",
    "    print(reading*20)"
   ]
  },
  {
   "cell_type": "code",
   "execution_count": 43,
   "id": "44cd7221-0e7c-4780-b879-badb7e7cea63",
   "metadata": {},
   "outputs": [
    {
     "name": "stdout",
     "output_type": "stream",
     "text": [
      "[2, 4, 5, 6, 8, 10, 12, 14, 15, 16, 18, 20, 22, 24, 25, 26, 28, 30, 32, 34, 35, 36, 38, 40, 42, 44, 45, 46, 48, 50, 52, 54, 55, 56, 58, 60, 62, 64, 65, 66, 68, 70, 72, 74, 75, 76, 78, 80, 82, 84, 85, 86, 88, 90, 92, 94, 95, 96, 98, 100]\n"
     ]
    }
   ],
   "source": [
    "li=[]\n",
    "for i in range(1,101):\n",
    "    if (i**3%4==0 or i**3%5==0):\n",
    "        li.append(i)\n",
    "        i=i+1;\n",
    "print(li)"
   ]
  },
  {
   "cell_type": "code",
   "execution_count": 52,
   "id": "97acf605-0a67-460a-9a81-d6710bfb6348",
   "metadata": {},
   "outputs": [
    {
     "name": "stdout",
     "output_type": "stream",
     "text": [
      "[]\n"
     ]
    }
   ],
   "source": [
    "li=[]\n",
    "while i in range(1,101):\n",
    "    if (i**3%4==0 or i**3%5==0):\n",
    "        li.append(i)\n",
    "        i=i+1\n",
    "print(li)"
   ]
  },
  {
   "cell_type": "code",
   "execution_count": 62,
   "id": "d7936523-5069-4651-9633-d71593f3dd8e",
   "metadata": {},
   "outputs": [
    {
     "name": "stdout",
     "output_type": "stream",
     "text": [
      "Number of Vowels in string :  12\n"
     ]
    }
   ],
   "source": [
    "string = \"I want to become a data scientist\"\n",
    "count=0\n",
    "for i in string:\n",
    "    if(i==\"a\" or i==\"A\" or i==\"i\" or i==\"I\" or i==\"u\" or i==\"U\" or i==\"o\" or i==\"O\" or i==\"e\" or i==\"E\"):\n",
    "        count=count+1\n",
    "print(\"Number of Vowels in string : \",count)"
   ]
  },
  {
   "cell_type": "code",
   "execution_count": null,
   "id": "d258bbcd-57b7-48f6-878c-6420d445e630",
   "metadata": {},
   "outputs": [],
   "source": []
  }
 ],
 "metadata": {
  "kernelspec": {
   "display_name": "Python 3 (ipykernel)",
   "language": "python",
   "name": "python3"
  },
  "language_info": {
   "codemirror_mode": {
    "name": "ipython",
    "version": 3
   },
   "file_extension": ".py",
   "mimetype": "text/x-python",
   "name": "python",
   "nbconvert_exporter": "python",
   "pygments_lexer": "ipython3",
   "version": "3.10.6"
  }
 },
 "nbformat": 4,
 "nbformat_minor": 5
}
