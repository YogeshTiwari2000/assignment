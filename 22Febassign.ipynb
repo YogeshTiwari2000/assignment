{
 "cells": [
  {
   "cell_type": "code",
   "execution_count": 3,
   "id": "770a4ced-1183-4a71-958c-39ab674025ff",
   "metadata": {},
   "outputs": [],
   "source": [
    "import pandas as pd\n",
    "panda_series=[4, 8, 15, 16, 23, 42]"
   ]
  },
  {
   "cell_type": "code",
   "execution_count": 4,
   "id": "10536fb7-8635-4e60-bd0a-c1401dd6e825",
   "metadata": {},
   "outputs": [
    {
     "data": {
      "text/plain": [
       "0     4\n",
       "1     8\n",
       "2    15\n",
       "3    16\n",
       "4    23\n",
       "5    42\n",
       "dtype: int64"
      ]
     },
     "execution_count": 4,
     "metadata": {},
     "output_type": "execute_result"
    }
   ],
   "source": [
    "pd.Series(panda_series)"
   ]
  },
  {
   "cell_type": "code",
   "execution_count": 5,
   "id": "f9f38f03-eea0-47b8-91b8-5064d8bc9c36",
   "metadata": {},
   "outputs": [],
   "source": [
    "y={\n",
    "    \"Name\":['Yogesh','Tiwari','Sir'],\n",
    "    'Age':['22','20','25'],\n",
    "    'Gender':['Male','Male','Male']\n",
    "}"
   ]
  },
  {
   "cell_type": "code",
   "execution_count": 6,
   "id": "b291a6cd-d74b-43ea-905a-659e6e126db1",
   "metadata": {},
   "outputs": [
    {
     "data": {
      "text/html": [
       "<div>\n",
       "<style scoped>\n",
       "    .dataframe tbody tr th:only-of-type {\n",
       "        vertical-align: middle;\n",
       "    }\n",
       "\n",
       "    .dataframe tbody tr th {\n",
       "        vertical-align: top;\n",
       "    }\n",
       "\n",
       "    .dataframe thead th {\n",
       "        text-align: right;\n",
       "    }\n",
       "</style>\n",
       "<table border=\"1\" class=\"dataframe\">\n",
       "  <thead>\n",
       "    <tr style=\"text-align: right;\">\n",
       "      <th></th>\n",
       "      <th>Name</th>\n",
       "      <th>Age</th>\n",
       "      <th>Gender</th>\n",
       "    </tr>\n",
       "  </thead>\n",
       "  <tbody>\n",
       "    <tr>\n",
       "      <th>0</th>\n",
       "      <td>Yogesh</td>\n",
       "      <td>22</td>\n",
       "      <td>Male</td>\n",
       "    </tr>\n",
       "    <tr>\n",
       "      <th>1</th>\n",
       "      <td>Tiwari</td>\n",
       "      <td>20</td>\n",
       "      <td>Male</td>\n",
       "    </tr>\n",
       "    <tr>\n",
       "      <th>2</th>\n",
       "      <td>Sir</td>\n",
       "      <td>25</td>\n",
       "      <td>Male</td>\n",
       "    </tr>\n",
       "  </tbody>\n",
       "</table>\n",
       "</div>"
      ],
      "text/plain": [
       "     Name Age Gender\n",
       "0  Yogesh  22   Male\n",
       "1  Tiwari  20   Male\n",
       "2     Sir  25   Male"
      ]
     },
     "execution_count": 6,
     "metadata": {},
     "output_type": "execute_result"
    }
   ],
   "source": [
    "pd.DataFrame(y)"
   ]
  },
  {
   "cell_type": "code",
   "execution_count": 7,
   "id": "5d19a304-ae60-44f8-988f-c1ee59652633",
   "metadata": {},
   "outputs": [],
   "source": [
    "l1=['a','b','c','d','e','f','g','h','i','j']"
   ]
  },
  {
   "cell_type": "code",
   "execution_count": 8,
   "id": "e520c8ed-a90f-432f-a3eb-a95162a2be59",
   "metadata": {},
   "outputs": [
    {
     "data": {
      "text/plain": [
       "0    a\n",
       "1    b\n",
       "2    c\n",
       "3    d\n",
       "4    e\n",
       "5    f\n",
       "6    g\n",
       "7    h\n",
       "8    i\n",
       "9    j\n",
       "dtype: object"
      ]
     },
     "execution_count": 8,
     "metadata": {},
     "output_type": "execute_result"
    }
   ],
   "source": [
    "pd.Series(l1)"
   ]
  },
  {
   "cell_type": "code",
   "execution_count": 9,
   "id": "530c55b3-4a9c-4b00-bee2-85c38666085e",
   "metadata": {},
   "outputs": [],
   "source": [
    "# Q4. What is ‘DataFrame’ in pandas and how is it different from pandas.series? Explain with an example.\n",
    "# series is 1D and homogenus in nature and dataFrame is 2D and hetrogenus in nature"
   ]
  },
  {
   "cell_type": "code",
   "execution_count": null,
   "id": "8cd35cc7-0b66-4ad5-a6fa-6875058482be",
   "metadata": {},
   "outputs": [],
   "source": [
    "# Panel: It is a 3-D, size-mutable array.\n",
    "# Mutability. All Pandas data structures are value mutable (can be changed) and except Series\n",
    "# all are size mutable. Series is size immutable."
   ]
  }
 ],
 "metadata": {
  "kernelspec": {
   "display_name": "Python 3 (ipykernel)",
   "language": "python",
   "name": "python3"
  },
  "language_info": {
   "codemirror_mode": {
    "name": "ipython",
    "version": 3
   },
   "file_extension": ".py",
   "mimetype": "text/x-python",
   "name": "python",
   "nbconvert_exporter": "python",
   "pygments_lexer": "ipython3",
   "version": "3.10.6"
  }
 },
 "nbformat": 4,
 "nbformat_minor": 5
}
