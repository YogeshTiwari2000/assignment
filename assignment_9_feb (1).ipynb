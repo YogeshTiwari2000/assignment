{
 "cells": [
  {
   "cell_type": "code",
   "execution_count": 10,
   "id": "1fb782ec-8794-4c3a-99b2-f4d8003483a4",
   "metadata": {},
   "outputs": [],
   "source": [
    "class vehical:\n",
    "    def __init__(self,name,max_speed,avg):\n",
    "        self.name=name\n",
    "        self.max_speed=max_speed\n",
    "        self.avg=avg\n",
    "    def get_details(self):\n",
    "        return self.name,self.max_speed,self.avg\n",
    "    def return_kr(self):\n",
    "        return self.name"
   ]
  },
  {
   "cell_type": "code",
   "execution_count": 11,
   "id": "654275bd-278b-4fe4-8044-9c2c7a59803e",
   "metadata": {},
   "outputs": [],
   "source": [
    "car=vehical('TATA',120,21)"
   ]
  },
  {
   "cell_type": "code",
   "execution_count": 12,
   "id": "2308098d-ecdb-4c32-b81c-80849807388b",
   "metadata": {},
   "outputs": [
    {
     "data": {
      "text/plain": [
       "120"
      ]
     },
     "execution_count": 12,
     "metadata": {},
     "output_type": "execute_result"
    }
   ],
   "source": [
    "car.max_speed"
   ]
  },
  {
   "cell_type": "code",
   "execution_count": 13,
   "id": "e5b5ec39-e8ba-4d9b-9316-4c60bde9a4d3",
   "metadata": {},
   "outputs": [
    {
     "data": {
      "text/plain": [
       "('TATA', 120, 21)"
      ]
     },
     "execution_count": 13,
     "metadata": {},
     "output_type": "execute_result"
    }
   ],
   "source": [
    "car.get_details()"
   ]
  },
  {
   "cell_type": "code",
   "execution_count": 14,
   "id": "dd3c0fc4-3dd3-4751-b645-cdb0ece25336",
   "metadata": {},
   "outputs": [],
   "source": [
    "class carwala(vehical):\n",
    "    def seating(self,capacity):\n",
    "        self.capacity=capacity\n",
    "        return self.name,self.capacity "
   ]
  },
  {
   "cell_type": "code",
   "execution_count": 15,
   "id": "52457cf3-7c75-4829-98ef-c6642da55088",
   "metadata": {},
   "outputs": [],
   "source": [
    "obj=carwala('TATA',120,9)"
   ]
  },
  {
   "cell_type": "code",
   "execution_count": 16,
   "id": "5c4dcc94-d7d4-4af2-8019-258b6318c122",
   "metadata": {},
   "outputs": [
    {
     "data": {
      "text/plain": [
       "('TATA', 5)"
      ]
     },
     "execution_count": 16,
     "metadata": {},
     "output_type": "execute_result"
    }
   ],
   "source": [
    "obj.seating(5)"
   ]
  },
  {
   "cell_type": "code",
   "execution_count": 17,
   "id": "5ad75689-ebdd-4733-b832-c1d712b8013c",
   "metadata": {},
   "outputs": [],
   "source": [
    "class class1:\n",
    "    def test_class1(self):\n",
    "        return \"this is a class1\"\n",
    "    \n",
    "class class2:\n",
    "    def test_class2(self):\n",
    "        return \"this is class2\"\n",
    "    \n",
    "class class3(class1,class2):\n",
    "    pass"
   ]
  },
  {
   "cell_type": "code",
   "execution_count": 18,
   "id": "7c2e7026-bc54-408c-a070-a0dd7fa51229",
   "metadata": {},
   "outputs": [],
   "source": [
    "obj_class3=class3()"
   ]
  },
  {
   "cell_type": "code",
   "execution_count": 19,
   "id": "ec638790-853d-489c-857f-7958ad678968",
   "metadata": {},
   "outputs": [
    {
     "data": {
      "text/plain": [
       "'this is a class1'"
      ]
     },
     "execution_count": 19,
     "metadata": {},
     "output_type": "execute_result"
    }
   ],
   "source": [
    "obj_class3.test_class1()"
   ]
  },
  {
   "cell_type": "code",
   "execution_count": 20,
   "id": "27bf9344-af37-4cab-8f6b-a591dcc8e332",
   "metadata": {},
   "outputs": [],
   "source": [
    "class pwskills1:\n",
    "    def __init__(self,course_name,course_price):\n",
    "        self.__course_price=course_price\n",
    "        self.course_name=course_name\n",
    "    \n",
    "    @property\n",
    "    def course_price_access(self):\n",
    "        return self.__course_price\n",
    "    \n",
    "    @course_price_access.setter\n",
    "    def course_price_set(self,price):\n",
    "        if price<=3500:\n",
    "            pass\n",
    "        else:\n",
    "            self.__course_price=price\n",
    "    @course_price_access.deleter\n",
    "    def delete_course_price(self):\n",
    "        del self.__course_price"
   ]
  },
  {
   "cell_type": "code",
   "execution_count": 21,
   "id": "a6affa97-a874-42bf-a2c7-eae80dc749fe",
   "metadata": {},
   "outputs": [],
   "source": [
    "pw1=pwskills1(\"DS\",3501)"
   ]
  },
  {
   "cell_type": "code",
   "execution_count": 22,
   "id": "7b311c81-4a64-4369-9ce5-7b6fc321e7b0",
   "metadata": {},
   "outputs": [
    {
     "data": {
      "text/plain": [
       "3501"
      ]
     },
     "execution_count": 22,
     "metadata": {},
     "output_type": "execute_result"
    }
   ],
   "source": [
    "pw1.course_price_access"
   ]
  },
  {
   "cell_type": "code",
   "execution_count": 23,
   "id": "087e1604-7876-4f76-88c7-0776b932c3a7",
   "metadata": {},
   "outputs": [],
   "source": [
    "pw1.course_price_set=4000"
   ]
  },
  {
   "cell_type": "code",
   "execution_count": 24,
   "id": "b05b4903-6c3e-458e-acfe-7a452d3109a6",
   "metadata": {},
   "outputs": [
    {
     "data": {
      "text/plain": [
       "4000"
      ]
     },
     "execution_count": 24,
     "metadata": {},
     "output_type": "execute_result"
    }
   ],
   "source": [
    "pw1.course_price_access"
   ]
  },
  {
   "cell_type": "code",
   "execution_count": null,
   "id": "46f087f3-f465-4957-84e5-e6aa1ecf8394",
   "metadata": {},
   "outputs": [],
   "source": []
  },
  {
   "cell_type": "code",
   "execution_count": null,
   "id": "02b5d829-eb2b-4f12-a4c3-4b2c52e3753a",
   "metadata": {},
   "outputs": [],
   "source": []
  }
 ],
 "metadata": {
  "kernelspec": {
   "display_name": "Python 3 (ipykernel)",
   "language": "python",
   "name": "python3"
  },
  "language_info": {
   "codemirror_mode": {
    "name": "ipython",
    "version": 3
   },
   "file_extension": ".py",
   "mimetype": "text/x-python",
   "name": "python",
   "nbconvert_exporter": "python",
   "pygments_lexer": "ipython3",
   "version": "3.10.6"
  }
 },
 "nbformat": 4,
 "nbformat_minor": 5
}
